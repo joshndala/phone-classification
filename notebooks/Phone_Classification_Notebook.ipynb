{
  "nbformat": 4,
  "nbformat_minor": 0,
  "metadata": {
    "colab": {
      "provenance": []
    },
    "kernelspec": {
      "name": "python3",
      "display_name": "Python 3"
    },
    "language_info": {
      "name": "python"
    }
  },
  "cells": [
    {
      "cell_type": "markdown",
      "source": [
        "# Setup"
      ],
      "metadata": {
        "id": "zbd1zjCJekeE"
      }
    },
    {
      "cell_type": "code",
      "execution_count": null,
      "metadata": {
        "id": "-6c-n1KEWYIo"
      },
      "outputs": [],
      "source": [
        "import pandas as pd\n",
        "import numpy as np\n",
        "import matplotlib.pyplot as plt\n",
        "import seaborn as sns\n",
        "from sklearn.preprocessing import LabelEncoder"
      ]
    },
    {
      "cell_type": "code",
      "source": [
        "data = pd.read_csv('https://raw.githubusercontent.com/joshndala/phone-classification/refs/heads/main/cleaned_all_phones.csv')\n",
        "print(data.info())\n",
        "data.head()"
      ],
      "metadata": {
        "id": "WoQAmCzOWsdm"
      },
      "execution_count": null,
      "outputs": []
    },
    {
      "cell_type": "markdown",
      "source": [
        "# Initial Analysis"
      ],
      "metadata": {
        "id": "sQuYYO68erM_"
      }
    },
    {
      "cell_type": "markdown",
      "source": [
        "## Data Analysis"
      ],
      "metadata": {
        "id": "eoajo1UYeuOk"
      }
    },
    {
      "cell_type": "code",
      "source": [
        "data['brand'].value_counts()"
      ],
      "metadata": {
        "id": "b_F8HnAIaIt0"
      },
      "execution_count": null,
      "outputs": []
    },
    {
      "cell_type": "code",
      "source": [
        "data['battery_type'].value_counts()"
      ],
      "metadata": {
        "id": "tOZIfbKsaS1E"
      },
      "execution_count": null,
      "outputs": []
    },
    {
      "cell_type": "code",
      "source": [
        "data.describe()"
      ],
      "metadata": {
        "id": "OA1Ka1aud7nd"
      },
      "execution_count": null,
      "outputs": []
    },
    {
      "cell_type": "code",
      "source": [
        "data['storage(GB)'].unique()"
      ],
      "metadata": {
        "id": "NNAatcbWd-vy"
      },
      "execution_count": null,
      "outputs": []
    },
    {
      "cell_type": "code",
      "source": [
        "data[data['storage(GB)'] == 1]"
      ],
      "metadata": {
        "id": "GDYsaJqTeP57"
      },
      "execution_count": null,
      "outputs": []
    },
    {
      "cell_type": "code",
      "source": [
        "#change data to 1024GB (=1TB)\n",
        "data.loc[data['storage(GB)'] == 1.0, 'storage(GB)'] = 1024.0"
      ],
      "metadata": {
        "id": "B_6S_goVe5W8"
      },
      "execution_count": null,
      "outputs": []
    },
    {
      "cell_type": "code",
      "source": [
        "data[['width','height']] = data['resolution'].str.split('x', expand=True).astype('int64')"
      ],
      "metadata": {
        "id": "eFO7FAULreha"
      },
      "execution_count": null,
      "outputs": []
    },
    {
      "cell_type": "code",
      "source": [
        "#Data Cleaning\n",
        "# Label encode the 'brand' column\n",
        "label_encoder = LabelEncoder()\n",
        "data['brand_encoded'] = label_encoder.fit_transform(data['brand'])\n",
        "\n",
        "#Separate year from date\n",
        "data['announcement_year'] = data.announcement_date.apply(lambda x: x.split('-')[0]).astype('int64')\n",
        "\n",
        "# Drop irrelevant columns (non-numerical and non-boolean)\n",
        "cleaned_data = data.drop(columns=['phone_name', 'brand', 'os', 'resolution', 'battery_type', 'announcement_date'])"
      ],
      "metadata": {
        "id": "LglpOj2vbUk_"
      },
      "execution_count": null,
      "outputs": []
    },
    {
      "cell_type": "code",
      "source": [
        "#correlation matrix\n",
        "corr = cleaned_data.corr()\n",
        "plt.figure(figsize=(12,10))\n",
        "sns.heatmap(corr, annot=True, cmap='coolwarm', fmt=\".2f\")\n",
        "plt.title('Correlation Matrix')\n",
        "plt.show()"
      ],
      "metadata": {
        "id": "vWWNmWvoXWS7"
      },
      "execution_count": null,
      "outputs": []
    },
    {
      "cell_type": "markdown",
      "source": [
        "The main target of this analysis will be pricing, and I'll be looking at different features that may affect pricing. With the correlation chart, it looks like there may not be many strong correlations directly with features, but the features have strong correlations with each other, which may be important."
      ],
      "metadata": {
        "id": "HVZgxpIFiYBS"
      }
    },
    {
      "cell_type": "code",
      "source": [
        "#prices\n",
        "sns.set_style('white')\n",
        "plt.figure(figsize = (14, 6))\n",
        "sns.displot(data['price(USD)'], kde = True)\n",
        "plt.show()"
      ],
      "metadata": {
        "id": "8Jr9Sr75TUmk"
      },
      "execution_count": null,
      "outputs": []
    },
    {
      "cell_type": "markdown",
      "source": [
        "## Brand"
      ],
      "metadata": {
        "id": "UUELb0Yyeazw"
      }
    },
    {
      "cell_type": "code",
      "source": [
        "#Price per brand\n",
        "avg_prices = data.groupby('brand')['price(USD)'].mean().sort_values(ascending=False)\n",
        "plt.figure(figsize = (12, 8))\n",
        "sns.barplot(x=avg_prices.index, y=avg_prices.values, hue = avg_prices.index, palette='PRGn')\n",
        "plt.title('Average Price per Brand')\n",
        "plt.xlabel('Brand')\n",
        "plt.ylabel('Average Price')\n",
        "\n",
        "#add numbers on top of each bar\n",
        "for i, v in enumerate(avg_prices.values):\n",
        "    plt.text(i, v, str(round(v, 2)), ha='center', va='bottom')\n",
        "\n",
        "plt.show()"
      ],
      "metadata": {
        "id": "37jk9ejpUJS6"
      },
      "execution_count": null,
      "outputs": []
    },
    {
      "cell_type": "code",
      "source": [
        "#Number of phones per brand\n",
        "num_phones = data.groupby('brand')['phone_name'].count().sort_values(ascending=False)\n",
        "plt.figure(figsize = (12, 8))\n",
        "sns.barplot(x=num_phones.index, y=num_phones.values, hue = num_phones.index, palette='Greens_r')\n",
        "plt.title('Number of Phones per Brand')\n",
        "plt.xlabel('Brand')\n",
        "plt.ylabel('Number of Phones')"
      ],
      "metadata": {
        "id": "LC28SHv0W1y-"
      },
      "execution_count": null,
      "outputs": []
    },
    {
      "cell_type": "code",
      "source": [
        "#Phones per year per brand\n",
        "phones_per_year = data.groupby(['announcement_year', 'brand'])['phone_name'].count().reset_index()\n",
        "plt.figure(figsize = (14, 8))\n",
        "sns.lineplot(x='announcement_year', y='phone_name', hue='brand', data=phones_per_year, palette='muted')\n",
        "plt.xlabel('Year')\n",
        "plt.ylabel('Number of Phones')\n",
        "plt.title('Number of Phones per Year per Brand')\n",
        "\n",
        "#Name on each line\n",
        "for brand in phones_per_year['brand'].unique():\n",
        "    brand_data = phones_per_year[phones_per_year['brand'] == brand]\n",
        "    first_point = brand_data.iloc[0]  # Changed from -1 to 0 to get first point\n",
        "    plt.text(first_point['announcement_year'], first_point['phone_name'],\n",
        "             f'{brand} ', ha='right', va='center')  # Changed ha to 'right'\n",
        "\n",
        "plt.show()"
      ],
      "metadata": {
        "id": "GQOHbqU5X336"
      },
      "execution_count": null,
      "outputs": []
    },
    {
      "cell_type": "code",
      "source": [
        "#Price changes over years\n",
        "price_changes = data.groupby('announcement_year')['price(USD)'].mean().reset_index()\n",
        "plt.figure(figsize = (14, 6))\n",
        "sns.barplot(x='announcement_year', y='price(USD)', data=price_changes, hue='price(USD)', palette = 'Reds')\n",
        "plt.xlabel('Year')\n",
        "plt.ylabel('Average Price')\n",
        "plt.title('Average Price per Year')\n",
        "plt.show()"
      ],
      "metadata": {
        "id": "1FDYbivXbrJK"
      },
      "execution_count": null,
      "outputs": []
    },
    {
      "cell_type": "code",
      "source": [
        "#Price Changes per Brand\n",
        "prices_per_brand = data.pivot_table(index='announcement_year', columns='brand', values='price(USD)', aggfunc='mean')\n",
        "\n",
        "prices_per_brand"
      ],
      "metadata": {
        "id": "6tCs3pzwcoDY"
      },
      "execution_count": null,
      "outputs": []
    },
    {
      "cell_type": "code",
      "source": [
        "columns = prices_per_brand.columns\n",
        "colors = sns.color_palette(\"Set1\", n_colors=12)\n",
        "sns.set_style('darkgrid')\n",
        "fig, axs = plt.subplots(3, 4, figsize=(20, 10))\n",
        "\n",
        "for i, ax in enumerate(axs.flat):\n",
        "    ax.plot(prices_per_brand.index, prices_per_brand[columns[i]], color=colors[i % 12])\n",
        "    ax.set(xlabel=\"Announcement Year\", ylabel=columns[i])\n",
        "\n",
        "plt.tight_layout()\n",
        "plt.show()"
      ],
      "metadata": {
        "id": "b6jpe6-sdEpx"
      },
      "execution_count": null,
      "outputs": []
    },
    {
      "cell_type": "markdown",
      "source": [
        "## Storage and RAM"
      ],
      "metadata": {
        "id": "xVliKDhfeQlV"
      }
    },
    {
      "cell_type": "markdown",
      "source": [
        "Focusing on pricing, there's some correlation between price and storage. So then when looking at storage, there's a significant correlation between storage and RAM"
      ],
      "metadata": {
        "id": "yvlb5aPRf5r4"
      }
    },
    {
      "cell_type": "code",
      "source": [
        "#Storage vs. RAM\n",
        "plt.figure(figsize=(10, 6))\n",
        "sns.regplot(x='ram(GB)', y='storage(GB)', order = 2, data=cleaned_data)\n",
        "plt.title('Storage vs. RAM')\n",
        "plt.xlabel('Storage (GB)')\n",
        "plt.ylabel('RAM (GB)')"
      ],
      "metadata": {
        "id": "k8hcUrGOfmz8"
      },
      "execution_count": null,
      "outputs": []
    },
    {
      "cell_type": "markdown",
      "source": [
        "## Weight and Inches"
      ],
      "metadata": {
        "id": "6tnMV3BFeUzf"
      }
    },
    {
      "cell_type": "markdown",
      "source": [
        "Another correlation with pricing is weight, although weight itself has a very significant correlation with inches"
      ],
      "metadata": {
        "id": "5dTzdToOjTze"
      }
    },
    {
      "cell_type": "code",
      "source": [
        "#Weight vs. Inches\n",
        "plt.figure(figsize=(12, 6))\n",
        "sns.lmplot(x='weight(g)', y='inches', hue = 'battery_type', data=data)\n",
        "plt.title('Weight vs. Inches')\n",
        "plt.xlabel('Weight (g)')\n",
        "plt.ylabel('Inches')\n",
        "plt.tight_layout()\n",
        "\n",
        "plt.show()"
      ],
      "metadata": {
        "id": "YrvsyllzjboV"
      },
      "execution_count": null,
      "outputs": []
    },
    {
      "cell_type": "markdown",
      "source": [
        "# Additional Feature Engineering"
      ],
      "metadata": {
        "id": "l5tVUH1kuC_v"
      }
    },
    {
      "cell_type": "code",
      "source": [
        "#Screen and Resolution Features\n",
        "cleaned_data['screen_area'] = cleaned_data['width'] * cleaned_data['height']\n",
        "cleaned_data['pixel_density'] = cleaned_data['screen_area'] / (cleaned_data['inches'] ** 2)"
      ],
      "metadata": {
        "id": "9NK_AIpMuEwi"
      },
      "execution_count": null,
      "outputs": []
    },
    {
      "cell_type": "code",
      "source": [
        "#Video quality score\n",
        "video_res_weights = {\n",
        "    'video_720p': 1,\n",
        "    'video_1080p': 2,\n",
        "    'video_4K': 4,\n",
        "    'video_8K': 8\n",
        "}\n",
        "\n",
        "video_fps_weights = {\n",
        "    'video_30fps': 1,\n",
        "    'video_60fps': 2,\n",
        "    'video_120fps': 3,\n",
        "    'video_240fps': 4,\n",
        "    'video_480fps': 5,\n",
        "    'video_960fps': 6\n",
        "}\n",
        "\n",
        "cleaned_data['video_res_score'] = sum(cleaned_data[col] * video_res_weights[col]\n",
        "                                    for col in video_res_weights.keys())\n",
        "cleaned_data['video_fps_score'] = sum(cleaned_data[col] * video_fps_weights[col]\n",
        "                                    for col in video_fps_weights.keys())\n",
        "cleaned_data['video_total_score'] = cleaned_data['video_res_score'] * cleaned_data['video_fps_score']"
      ],
      "metadata": {
        "id": "OC4Ja6EJu_lb"
      },
      "execution_count": null,
      "outputs": []
    },
    {
      "cell_type": "code",
      "source": [
        "#Memory and Storage Interactions\n",
        "cleaned_data['memory_ratio'] = cleaned_data['ram(GB)'] / cleaned_data['storage(GB)']\n",
        "cleaned_data['memory_total'] = cleaned_data['ram(GB)'] + cleaned_data['storage(GB)']\n",
        "\n",
        "#Device Age and Generation Features\n",
        "cleaned_data['device_age'] = 2024 - cleaned_data['announcement_year']\n",
        "\n",
        "#Create price segments (can be useful for analysis)\n",
        "cleaned_data['price_segment'] = pd.qcut(cleaned_data['price(USD)'],\n",
        "                                      q=5,\n",
        "                                      labels=['budget', 'low_mid', 'mid', 'high_mid', 'premium'])"
      ],
      "metadata": {
        "id": "z6whOdyEvEP5"
      },
      "execution_count": null,
      "outputs": []
    },
    {
      "cell_type": "code",
      "source": [
        "#Phone Specs Score\n",
        "cleaned_data['specs_score'] = (\n",
        "    cleaned_data['ram(GB)'] * 0.3 +\n",
        "    np.log1p(cleaned_data['storage(GB)']) * 0.2 +\n",
        "    cleaned_data['video_total_score'] * 0.2 +\n",
        "    cleaned_data['battery'] / 1000 * 0.15 +\n",
        "    cleaned_data['screen_area'] / 100000 * 0.15\n",
        ")"
      ],
      "metadata": {
        "id": "GhfQ4OlWv20R"
      },
      "execution_count": null,
      "outputs": []
    },
    {
      "cell_type": "code",
      "source": [
        "#Feature Interactions\n",
        "cleaned_data['ram_storage_interaction'] = cleaned_data['ram(GB)'] * np.log1p(cleaned_data['storage(GB)'])\n",
        "cleaned_data['screen_battery_ratio'] = cleaned_data['screen_area'] / cleaned_data['battery']"
      ],
      "metadata": {
        "id": "vwjSS97Uv5gc"
      },
      "execution_count": null,
      "outputs": []
    },
    {
      "cell_type": "code",
      "source": [
        "# Visualize the relationship between new features and price\n",
        "plt.figure(figsize=(15, 10))\n",
        "plt.subplot(2, 2, 1)\n",
        "sns.scatterplot(data=cleaned_data, x='specs_score', y='price(USD)')\n",
        "plt.title('Specs Score vs Price')\n",
        "\n",
        "plt.subplot(2, 2, 2)\n",
        "sns.boxplot(data=cleaned_data, x='price_segment', y='price(USD)')\n",
        "plt.title('Price Distribution by Segment')\n",
        "plt.xticks(rotation=45)\n",
        "\n",
        "plt.subplot(2, 2, 3)\n",
        "sns.scatterplot(data=cleaned_data, x='device_age', y='price(USD)')\n",
        "plt.title('Device Age vs Price')\n",
        "\n",
        "plt.subplot(2, 2, 4)\n",
        "sns.scatterplot(data=cleaned_data, x='video_total_score', y='price(USD)')\n",
        "plt.title('Video Score vs Price')\n",
        "\n",
        "plt.tight_layout()\n",
        "plt.show()"
      ],
      "metadata": {
        "id": "iaQIRsYHv83i"
      },
      "execution_count": null,
      "outputs": []
    },
    {
      "cell_type": "code",
      "source": [
        "# Check correlation of new features with price\n",
        "new_features_corr = cleaned_data[[\n",
        "    'price(USD)', 'specs_score', 'video_total_score',\n",
        "    'memory_ratio', 'memory_total', 'screen_area',\n",
        "    'pixel_density', 'device_age'\n",
        "]].corr()['price(USD)'].sort_values(ascending=False)\n",
        "\n",
        "print(\"\\nCorrelation with price for new features:\")\n",
        "print(new_features_corr)"
      ],
      "metadata": {
        "id": "xSUZAh7ewAcG"
      },
      "execution_count": null,
      "outputs": []
    },
    {
      "cell_type": "code",
      "source": [
        "#Normalized features (helpful for modeling)\n",
        "from sklearn.preprocessing import MinMaxScaler\n",
        "scaler = MinMaxScaler()\n",
        "\n",
        "#Normalize numerical features\n",
        "numerical_cols = ['battery', 'ram(GB)', 'storage(GB)', 'weight(g)', 'inches']\n",
        "for col in numerical_cols:\n",
        "    cleaned_data[f'{col}_normalized'] = scaler.fit_transform(cleaned_data[[col]])"
      ],
      "metadata": {
        "id": "48zK0R08zJy8"
      },
      "execution_count": null,
      "outputs": []
    },
    {
      "cell_type": "code",
      "source": [
        "#Premium features indicator\n",
        "cleaned_data['is_premium_storage'] = cleaned_data['storage(GB)'] >= 256\n",
        "cleaned_data['is_premium_ram'] = cleaned_data['ram(GB)'] >= 8\n",
        "\n",
        "#More sophisticated battery features\n",
        "cleaned_data['battery_per_inch'] = cleaned_data['battery'] / cleaned_data['inches']\n",
        "cleaned_data['battery_per_weight'] = cleaned_data['battery'] / cleaned_data['weight(g)']\n",
        "\n",
        "#Generation indicators\n",
        "cleaned_data['is_recent_gen'] = cleaned_data['device_age'] <= 2\n",
        "cleaned_data['generation_score'] = np.exp(-cleaned_data['device_age'] * 0.5)  # Exponential decay\n",
        "\n",
        "#Screen-to-body approximation\n",
        "cleaned_data['screen_to_weight_ratio'] = cleaned_data['screen_area'] / cleaned_data['weight(g)']"
      ],
      "metadata": {
        "id": "n_oaVqN_zjqI"
      },
      "execution_count": null,
      "outputs": []
    },
    {
      "cell_type": "code",
      "source": [
        "#Composite feature scores\n",
        "cleaned_data['performance_score'] = (\n",
        "    cleaned_data['ram(GB)_normalized'] * 0.4 +\n",
        "    cleaned_data['storage(GB)_normalized'] * 0.3 +\n",
        "    cleaned_data['generation_score'] * 0.3\n",
        ")\n",
        "\n",
        "cleaned_data['display_score'] = (\n",
        "    cleaned_data['pixel_density'] * 0.4 +\n",
        "    cleaned_data['inches_normalized'] * 0.3 +\n",
        "    cleaned_data['video_total_score'] / cleaned_data['video_total_score'].max() * 0.3\n",
        ")\n",
        "\n",
        "#Brand market positioning\n",
        "brand_avg_price = cleaned_data.groupby('brand_encoded')['price(USD)'].transform('mean')\n",
        "cleaned_data['price_vs_brand_avg'] = cleaned_data['price(USD)'] / brand_avg_price"
      ],
      "metadata": {
        "id": "FJQZNL7Czr4m"
      },
      "execution_count": null,
      "outputs": []
    },
    {
      "cell_type": "code",
      "source": [
        "#Visualize new feature relationships\n",
        "plt.figure(figsize=(15, 10))\n",
        "\n",
        "plt.subplot(2, 2, 1)\n",
        "sns.scatterplot(data=cleaned_data, x='performance_score', y='price(USD)')\n",
        "plt.title('Performance Score vs Price')\n",
        "\n",
        "plt.subplot(2, 2, 2)\n",
        "sns.scatterplot(data=cleaned_data, x='display_score', y='price(USD)')\n",
        "plt.title('Display Score vs Price')\n",
        "\n",
        "plt.subplot(2, 2, 3)\n",
        "sns.scatterplot(data=cleaned_data, x='battery_per_inch', y='price(USD)')\n",
        "plt.title('Battery per Inch vs Price')\n",
        "\n",
        "plt.subplot(2, 2, 4)\n",
        "sns.boxplot(data=cleaned_data, x='is_premium_storage', y='price(USD)')\n",
        "plt.title('Price Distribution by Storage Tier')\n",
        "\n",
        "plt.tight_layout()\n",
        "plt.show()"
      ],
      "metadata": {
        "id": "aXflKWbmzwnT"
      },
      "execution_count": null,
      "outputs": []
    },
    {
      "cell_type": "code",
      "source": [
        "# Check correlations with price for new features\n",
        "new_features = [\n",
        "    'performance_score', 'display_score', 'battery_per_inch',\n",
        "    'battery_per_weight', 'screen_to_weight_ratio', 'price_vs_brand_avg',\n",
        "    'generation_score'\n",
        "]\n",
        "\n",
        "correlations = cleaned_data[['price(USD)'] + new_features].corr()['price(USD)'].sort_values(ascending=False)\n",
        "print(\"\\nCorrelations with price for new features:\")\n",
        "print(correlations)"
      ],
      "metadata": {
        "id": "MJavog8Szy4o"
      },
      "execution_count": null,
      "outputs": []
    },
    {
      "cell_type": "markdown",
      "source": [
        "# Models"
      ],
      "metadata": {
        "id": "6kflijqLfeYf"
      }
    },
    {
      "cell_type": "code",
      "source": [
        "from sklearn.model_selection import train_test_split, cross_val_score\n",
        "from sklearn.preprocessing import StandardScaler\n",
        "from sklearn.linear_model import LinearRegression\n",
        "from sklearn.ensemble import RandomForestRegressor\n",
        "import xgboost as xgb\n",
        "from sklearn.metrics import mean_squared_error, r2_score, mean_absolute_error\n",
        "import numpy as np\n",
        "\n",
        "#Prepare features and target\n",
        "#Drop non-feature columns and categorical columns we don't want to use\n",
        "X = cleaned_data.drop(['price(USD)', 'price_segment'], axis=1)\n",
        "y = cleaned_data['price(USD)']\n",
        "\n",
        "#Split the data\n",
        "X_train, X_test, y_train, y_test = train_test_split(X, y, test_size=0.2, random_state=42)\n",
        "\n",
        "#Scale the features\n",
        "scaler = StandardScaler()\n",
        "X_train_scaled = scaler.fit_transform(X_train)\n",
        "X_test_scaled = scaler.transform(X_test)"
      ],
      "metadata": {
        "id": "yHKjtIca0rZe"
      },
      "execution_count": null,
      "outputs": []
    },
    {
      "cell_type": "code",
      "source": [
        "#Function to evaluate models\n",
        "def evaluate_model(y_true, y_pred, model_name):\n",
        "    mse = mean_squared_error(y_true, y_pred)\n",
        "    rmse = np.sqrt(mse)\n",
        "    mae = mean_absolute_error(y_true, y_pred)\n",
        "    r2 = r2_score(y_true, y_pred)\n",
        "\n",
        "    print(f\"\\n{model_name} Results:\")\n",
        "    print(f\"RMSE: ${rmse:.2f}\")\n",
        "    print(f\"MAE: ${mae:.2f}\")\n",
        "    print(f\"R² Score: {r2:.3f}\")\n",
        "    return rmse, mae, r2"
      ],
      "metadata": {
        "id": "ZoxaMxma085n"
      },
      "execution_count": null,
      "outputs": []
    },
    {
      "cell_type": "code",
      "source": [
        "# 1. Linear Regression (Baseline)\n",
        "lr_model = LinearRegression()\n",
        "lr_model.fit(X_train_scaled, y_train)\n",
        "lr_pred = lr_model.predict(X_test_scaled)\n",
        "lr_metrics = evaluate_model(y_test, lr_pred, \"Linear Regression\")\n",
        "\n",
        "# 2. Random Forest Regressor\n",
        "rf_model = RandomForestRegressor(\n",
        "    n_estimators=100,\n",
        "    max_depth=15,\n",
        "    min_samples_split=5,\n",
        "    random_state=42\n",
        ")\n",
        "rf_model.fit(X_train_scaled, y_train)\n",
        "rf_pred = rf_model.predict(X_test_scaled)\n",
        "rf_metrics = evaluate_model(y_test, rf_pred, \"Random Forest\")\n",
        "\n",
        "# 3. XGBoost\n",
        "xgb_model = xgb.XGBRegressor(\n",
        "    n_estimators=100,\n",
        "    learning_rate=0.1,\n",
        "    max_depth=6,\n",
        "    random_state=42\n",
        ")\n",
        "xgb_model.fit(X_train_scaled, y_train)\n",
        "xgb_pred = xgb_model.predict(X_test_scaled)\n",
        "xgb_metrics = evaluate_model(y_test, xgb_pred, \"XGBoost\")"
      ],
      "metadata": {
        "id": "QtaOuhaP1Eey"
      },
      "execution_count": null,
      "outputs": []
    },
    {
      "cell_type": "code",
      "source": [
        "#Cross-validation scores for all models\n",
        "cv_scores = {\n",
        "    'Linear Regression': cross_val_score(lr_model, X_train_scaled, y_train, cv=5, scoring='r2'),\n",
        "    'Random Forest': cross_val_score(rf_model, X_train_scaled, y_train, cv=5, scoring='r2'),\n",
        "    'XGBoost': cross_val_score(xgb_model, X_train_scaled, y_train, cv=5, scoring='r2')\n",
        "}\n",
        "\n",
        "print(\"\\nCross-validation R² scores (mean ± std):\")\n",
        "for model_name, scores in cv_scores.items():\n",
        "    print(f\"{model_name}: {scores.mean():.3f} ± {scores.std():.3f}\")"
      ],
      "metadata": {
        "id": "gCDuX14R1Joa"
      },
      "execution_count": null,
      "outputs": []
    },
    {
      "cell_type": "code",
      "source": [
        "#Feature importance for Random Forest\n",
        "feature_importance = pd.DataFrame({\n",
        "    'feature': X_train.columns,\n",
        "    'importance': rf_model.feature_importances_\n",
        "})\n",
        "feature_importance = feature_importance.sort_values('importance', ascending=False)\n",
        "\n",
        "plt.figure(figsize=(12, 6))\n",
        "sns.barplot(x='importance', y='feature', data=feature_importance.head(10))\n",
        "plt.title('Top 10 Most Important Features (Random Forest)')\n",
        "plt.show()"
      ],
      "metadata": {
        "id": "2O14QfZm1Nnf"
      },
      "execution_count": null,
      "outputs": []
    },
    {
      "cell_type": "code",
      "source": [
        "#Scatter plot of predictions vs actual\n",
        "plt.figure(figsize=(15, 5))\n",
        "\n",
        "plt.subplot(131)\n",
        "plt.scatter(y_test, lr_pred, alpha=0.5)\n",
        "plt.plot([y_test.min(), y_test.max()], [y_test.min(), y_test.max()], 'r--', lw=2)\n",
        "plt.xlabel('Actual Price')\n",
        "plt.ylabel('Predicted Price')\n",
        "plt.title('Linear Regression')\n",
        "\n",
        "plt.subplot(132)\n",
        "plt.scatter(y_test, rf_pred, alpha=0.5)\n",
        "plt.plot([y_test.min(), y_test.max()], [y_test.min(), y_test.max()], 'r--', lw=2)\n",
        "plt.xlabel('Actual Price')\n",
        "plt.ylabel('Predicted Price')\n",
        "plt.title('Random Forest')\n",
        "\n",
        "plt.subplot(133)\n",
        "plt.scatter(y_test, xgb_pred, alpha=0.5)\n",
        "plt.plot([y_test.min(), y_test.max()], [y_test.min(), y_test.max()], 'r--', lw=2)\n",
        "plt.xlabel('Actual Price')\n",
        "plt.ylabel('Predicted Price')\n",
        "plt.title('XGBoost')\n",
        "\n",
        "plt.tight_layout()\n",
        "plt.show()"
      ],
      "metadata": {
        "id": "OoV3F2Du1QD7"
      },
      "execution_count": null,
      "outputs": []
    },
    {
      "cell_type": "markdown",
      "source": [
        "## Models with less important features"
      ],
      "metadata": {
        "id": "x3Dt00sz6Ct9"
      }
    },
    {
      "cell_type": "code",
      "source": [
        "#Top features based on importance\n",
        "important_features = [\n",
        "    'price_vs_brand_avg',\n",
        "    'brand_encoded',\n",
        "    'screen_battery_ratio',\n",
        "    'battery_per_weight',\n",
        "    'screen_to_weight_ratio',\n",
        "    'battery_per_inch',\n",
        "    'battery',\n",
        "    'display_score',\n",
        "    'memory_ratio',\n",
        "    'height'\n",
        "]\n",
        "\n",
        "#New Dataset\n",
        "X_slim = cleaned_data[important_features]\n",
        "y = cleaned_data['price(USD)']\n",
        "\n",
        "#Split/Scale\n",
        "X_train_slim, X_test_slim, y_train, y_test = train_test_split(X_slim, y, test_size=0.2, random_state=42)\n",
        "\n",
        "scaler = StandardScaler()\n",
        "X_train_slim_scaled = scaler.fit_transform(X_train_slim)\n",
        "X_test_slim_scaled = scaler.transform(X_test_slim)\n",
        "\n",
        "#Train and evaluate streamlined models\n",
        "def train_and_evaluate(X_train, X_test, y_train, y_test, model_name):\n",
        "    if model_name == \"Linear Regression\":\n",
        "        model = LinearRegression()\n",
        "    elif model_name == \"Random Forest\":\n",
        "        model = RandomForestRegressor(n_estimators=100, random_state=42)\n",
        "    else:  # XGBoost\n",
        "        model = xgb.XGBRegressor(objective='reg:squarederror', random_state=42)\n",
        "\n",
        "    # Train model\n",
        "    model.fit(X_train, y_train)\n",
        "\n",
        "    # Make predictions\n",
        "    y_pred = model.predict(X_test)\n",
        "\n",
        "    # Calculate metrics\n",
        "    mse = mean_squared_error(y_test, y_pred)\n",
        "    rmse = np.sqrt(mse)\n",
        "    mae = mean_absolute_error(y_test, y_pred)\n",
        "    r2 = r2_score(y_test, y_pred)\n",
        "\n",
        "    # Cross-validation\n",
        "    cv_scores = cross_val_score(model, X_train, y_train, cv=5, scoring='r2')\n",
        "\n",
        "    print(f\"\\n{model_name} Results (Streamlined Features):\")\n",
        "    print(f\"RMSE: ${rmse:.2f}\")\n",
        "    print(f\"MAE: ${mae:.2f}\")\n",
        "    print(f\"R² Score: {r2:.3f}\")\n",
        "    print(f\"CV R² Score: {cv_scores.mean():.3f} ± {cv_scores.std():.3f}\")\n",
        "\n",
        "    return model, y_pred, cv_scores\n",
        "\n",
        "# Train and evaluate all models\n",
        "models = [\"Linear Regression\", \"Random Forest\", \"XGBoost\"]\n",
        "results = {}\n",
        "\n",
        "for model_name in models:\n",
        "    model, predictions, cv_scores = train_and_evaluate(\n",
        "        X_train_slim_scaled,\n",
        "        X_test_slim_scaled,\n",
        "        y_train,\n",
        "        y_test,\n",
        "        model_name\n",
        "    )\n",
        "    results[model_name] = {\n",
        "        'model': model,\n",
        "        'predictions': predictions,\n",
        "        'cv_scores': cv_scores\n",
        "    }\n",
        "\n",
        "# Visualize predictions vs actual for all models\n",
        "plt.figure(figsize=(15, 5))\n",
        "for i, (model_name, result) in enumerate(results.items(), 1):\n",
        "    plt.subplot(1, 3, i)\n",
        "    plt.scatter(y_test, result['predictions'], alpha=0.5)\n",
        "    plt.plot([y_test.min(), y_test.max()], [y_test.min(), y_test.max()], 'r--', lw=2)\n",
        "    plt.xlabel('Actual Price')\n",
        "    plt.ylabel('Predicted Price')\n",
        "    plt.title(f'{model_name}\\nStreamlined Features')\n",
        "\n",
        "plt.tight_layout()\n",
        "plt.show()\n",
        "\n",
        "# Compare feature importance for Random Forest (streamlined vs original)\n",
        "rf_model = results['Random Forest']['model']\n",
        "feature_importance = pd.DataFrame({\n",
        "    'feature': important_features,\n",
        "    'importance': rf_model.feature_importances_\n",
        "})\n",
        "feature_importance = feature_importance.sort_values('importance', ascending=False)\n",
        "\n",
        "plt.figure(figsize=(10, 6))\n",
        "sns.barplot(data=feature_importance, x='importance', y='feature')\n",
        "plt.title('Feature Importance (Streamlined Random Forest)')\n",
        "plt.show()\n",
        "\n",
        "# Print improvement/degradation comparison\n",
        "print(\"\\nComparison with Original Models:\")\n",
        "for model_name in models:\n",
        "    original_cv = {\n",
        "        \"Linear Regression\": 0.925,\n",
        "        \"Random Forest\": 0.937,\n",
        "        \"XGBoost\": 0.961\n",
        "    }\n",
        "    new_cv = results[model_name]['cv_scores'].mean()\n",
        "    diff = new_cv - original_cv[model_name]\n",
        "    print(f\"\\n{model_name}:\")\n",
        "    print(f\"Original CV R²: {original_cv[model_name]:.3f}\")\n",
        "    print(f\"Streamlined CV R²: {new_cv:.3f}\")\n",
        "    print(f\"Difference: {diff:+.3f}\")"
      ],
      "metadata": {
        "id": "d-s1lh7d6Fjs"
      },
      "execution_count": null,
      "outputs": []
    },
    {
      "cell_type": "code",
      "source": [
        "# Create dictionary of metrics\n",
        "metrics_data = {\n",
        "    'Model': ['Linear Regression', 'Random Forest', 'XGBoost'] * 3,\n",
        "    'Metric': ['R²', 'R²', 'R²', 'RMSE', 'RMSE', 'RMSE', 'MAE', 'MAE', 'MAE'],\n",
        "    'Value': [\n",
        "        # R² scores\n",
        "        0.918, 0.933, 0.963,\n",
        "        # RMSE values\n",
        "        75.99, 68.84, 51.30,\n",
        "        # MAE values\n",
        "        47.69, 34.72, 21.80\n",
        "    ]\n",
        "}\n",
        "\n",
        "# Create DataFrame\n",
        "df_metrics = pd.DataFrame(metrics_data)\n",
        "\n",
        "# Create grouped bar chart\n",
        "plt.figure(figsize=(12, 6))\n",
        "\n",
        "\n",
        "# Define colors for each model\n",
        "colors = ['#2ecc71', '#3498db', '#e74c3c']\n",
        "\n",
        "# Create grouped bar chart\n",
        "g = sns.barplot(\n",
        "    data=df_metrics,\n",
        "    x='Metric',\n",
        "    y='Value',\n",
        "    hue='Model',\n",
        "    palette=colors\n",
        ")\n",
        "\n",
        "# Customize the plot\n",
        "plt.title('Model Performance Comparison', fontsize=14, pad=15)\n",
        "plt.xlabel('Metric', fontsize=12)\n",
        "plt.ylabel('Value', fontsize=12)\n",
        "\n",
        "# Rotate x-labels if needed\n",
        "plt.xticks(rotation=0)\n",
        "\n",
        "# Add value labels on the bars\n",
        "for container in g.containers:\n",
        "    g.bar_label(container, fmt='%.3f', padding=3)\n",
        "\n",
        "# Adjust legend\n",
        "plt.legend(title='Model', bbox_to_anchor=(1.05, 1), loc='upper left')\n",
        "\n",
        "# Adjust layout to prevent label cutoff\n",
        "plt.tight_layout()\n",
        "\n",
        "# Show plot\n",
        "plt.show()\n",
        "\n",
        "# Optional: Create a table version of the metrics\n",
        "metrics_table = df_metrics.pivot(index='Model', columns='Metric', values='Value')\n",
        "print(\"\\nMetrics Table:\")\n",
        "print(metrics_table.round(3))"
      ],
      "metadata": {
        "id": "2_ilNIT9Wk9g"
      },
      "execution_count": null,
      "outputs": []
    }
  ]
}